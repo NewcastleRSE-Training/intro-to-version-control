{
 "cells": [
  {
   "cell_type": "markdown",
   "metadata": {
    "slideshow": {
     "slide_type": "slide"
    }
   },
   "source": [
    "# Introduction to Version Control with Git\n",
    "\n",
    "![Git logo](images/git_logo.png)"
   ]
  },
  {
   "cell_type": "markdown",
   "metadata": {
    "slideshow": {
     "slide_type": "slide"
    }
   },
   "source": [
    "# Overview\n",
    "\n",
    "1. Introducing the Newcastle Research Software Engineering Team\n",
    "2. What to expect\n",
    "3. Installing Git\n",
    "4. Creating a GitHub account\n",
    "5. Setting credentials"
   ]
  },
  {
   "cell_type": "markdown",
   "metadata": {
    "slideshow": {
     "slide_type": "slide"
    }
   },
   "source": [
    "# Research Software Engineering Team\n",
    "\n",
    "Support research across the university through the application of software engineering best practice through:\n",
    "\n",
    "* Training\n",
    "* Collaborating with researchers to build software to address their research challenges\n",
    "* Find out more at [https://research.ncl.ac.uk/rse/](https://research.ncl.ac.uk/rse/)\n",
    "* Follow us on Twitter @ncl_rse"
   ]
  },
  {
   "cell_type": "markdown",
   "metadata": {
    "slideshow": {
     "slide_type": "slide"
    }
   },
   "source": [
    "# What to Expect\n",
    "\n",
    "* Key concepts introduced, followed by practical activities\n",
    "* Documents to refer to after the session\n",
    "* Ask questions any time - no question too simple!\n",
    "\n",
    "![Post-its](images/post_its.png)"
   ]
  },
  {
   "cell_type": "markdown",
   "metadata": {
    "slideshow": {
     "slide_type": "slide"
    }
   },
   "source": [
    "# Installing Git\n",
    "\n",
    "Free download for your Operating System (Windows, Mac OS, Linux) at:\n",
    "\n",
    "[https://git-scm.com/download](https://git-scm.com/download)\n",
    "\n",
    "Run and follow the installation instructions\n",
    "\n",
    "Windows users may be best using the University Software Center desktop app to avoid problems with administrative rights"
   ]
  },
  {
   "cell_type": "code",
   "execution_count": null,
   "metadata": {},
   "outputs": [],
   "source": []
  }
 ],
 "metadata": {
  "celltoolbar": "Slideshow",
  "kernelspec": {
   "display_name": "Python 3",
   "language": "python",
   "name": "python3"
  },
  "language_info": {
   "codemirror_mode": {
    "name": "ipython",
    "version": 3
   },
   "file_extension": ".py",
   "mimetype": "text/x-python",
   "name": "python",
   "nbconvert_exporter": "python",
   "pygments_lexer": "ipython3",
   "version": "3.7.4"
  }
 },
 "nbformat": 4,
 "nbformat_minor": 2
}
